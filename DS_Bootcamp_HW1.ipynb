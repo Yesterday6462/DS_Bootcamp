{
 "cells": [
  {
   "metadata": {},
   "cell_type": "markdown",
   "source": "1. Display Fibonacci Series upto 10 terms",
   "id": "f0f4083828ef80e3"
  },
  {
   "cell_type": "code",
   "id": "initial_id",
   "metadata": {
    "collapsed": true,
    "ExecuteTime": {
     "end_time": "2025-03-05T04:25:58.000080Z",
     "start_time": "2025-03-05T04:25:57.979163Z"
    }
   },
   "source": [
    "def fibonacci(n):\n",
    "  series = [0, 1]\n",
    "  for element in range(2, n):\n",
    "    next_term = series[element - 1] + series[element - 2]\n",
    "    series.append(next_term)\n",
    "  return series\n",
    "\n",
    "fibonacci(10)"
   ],
   "outputs": [
    {
     "data": {
      "text/plain": [
       "[0, 1, 1, 2, 3, 5, 8, 13, 21, 34]"
      ]
     },
     "execution_count": 26,
     "metadata": {},
     "output_type": "execute_result"
    }
   ],
   "execution_count": 26
  },
  {
   "metadata": {},
   "cell_type": "markdown",
   "source": "2. Display numbers at the odd indices of a list",
   "id": "f46e0a9adfea6f5f"
  },
  {
   "metadata": {
    "ExecuteTime": {
     "end_time": "2025-03-05T04:25:58.031444Z",
     "start_time": "2025-03-05T04:25:58.023180Z"
    }
   },
   "cell_type": "code",
   "source": [
    "l = list(range(10))\n",
    "print(l) # See what l is like.\n",
    "print(l[1::2]) # Display the number with odd indices in l."
   ],
   "id": "a55ee651af52a44f",
   "outputs": [
    {
     "name": "stdout",
     "output_type": "stream",
     "text": [
      "[0, 1, 2, 3, 4, 5, 6, 7, 8, 9]\n",
      "[1, 3, 5, 7, 9]\n"
     ]
    }
   ],
   "execution_count": 27
  },
  {
   "metadata": {},
   "cell_type": "markdown",
   "source": [
    "3.\n",
    "\n",
    "string = \"\"\"\n",
    "\n",
    "I have provided this text to provide tips on creating interesting paragraphs.\n",
    "\n",
    "First, start with a clear topic sentence that introduces the main idea.\n",
    "\n",
    "Then, support the topic sentence with specific details, examples, and evidence.\n",
    "\n",
    "Vary the sentence length and structure to keep the reader engaged.\n",
    "\n",
    "Finally, end with a strong concluding sentence that summarizes the main points.\n",
    "\n",
    "Remember, practice makes perfect!\n",
    "\n",
    "\"\"\"\n",
    "\n",
    "Your task is to count the number of different words in this text"
   ],
   "id": "fc389536229847fb"
  },
  {
   "metadata": {
    "ExecuteTime": {
     "end_time": "2025-03-05T04:48:11.499007Z",
     "start_time": "2025-03-05T04:48:11.485350Z"
    }
   },
   "cell_type": "code",
   "source": [
    "string = \"\"\"\n",
    "\n",
    "I have provided this text to provide tips on creating interesting paragraphs.\n",
    "\n",
    "First, start with a clear topic sentence that introduces the main idea.\n",
    "\n",
    "Then, support the topic sentence with specific details, examples, and evidence.\n",
    "\n",
    "Vary the sentence length and structure to keep the reader engaged.\n",
    "\n",
    "Finally, end with a strong concluding sentence that summarizes the main points.\n",
    "\n",
    "Remember, practice makes perfect!\n",
    "\n",
    "\"\"\"\n",
    "r = [',', '.', '!']\n",
    "for i in r:\n",
    "    string = string.replace(i, \" \")\n",
    "string_l = string.lower()\n",
    "words = string_l.split()\n",
    "words_u = []\n",
    "n = 0\n",
    "for word in words:\n",
    "    if word not in words_u:\n",
    "        words_u.append(word)\n",
    "        n += 1\n",
    "\n",
    "print(f'There are {n} different words in this text.')"
   ],
   "id": "e380d430ca68cdb3",
   "outputs": [
    {
     "name": "stdout",
     "output_type": "stream",
     "text": [
      "There are 47 different words in this text.\n"
     ]
    }
   ],
   "execution_count": 4
  },
  {
   "metadata": {},
   "cell_type": "markdown",
   "source": "4. Write a function count_vowels(word) that takes a word as an argument and returns the number of vowels in the word",
   "id": "cb413a026288a322"
  },
  {
   "metadata": {
    "ExecuteTime": {
     "end_time": "2025-03-05T04:25:58.123916Z",
     "start_time": "2025-03-05T04:25:58.105778Z"
    }
   },
   "cell_type": "code",
   "source": [
    "def count_vowels(word):\n",
    "    vowels = ['a', 'e', 'i', 'o', 'u', 'A', 'E', 'I', 'O', 'U']\n",
    "    n = 0\n",
    "    for char in word:\n",
    "        if char in vowels:\n",
    "            n += 1\n",
    "    return n\n",
    "\n",
    "count_vowels('DS_Bootcamp') # Test."
   ],
   "id": "c4873781eeff3347",
   "outputs": [
    {
     "data": {
      "text/plain": [
       "3"
      ]
     },
     "execution_count": 29,
     "metadata": {},
     "output_type": "execute_result"
    }
   ],
   "execution_count": 29
  },
  {
   "metadata": {},
   "cell_type": "markdown",
   "source": [
    "5.\n",
    "Iterate through the following list of animals and print each one in all caps.\n",
    "\n",
    "animals=['tiger', 'elephant', 'monkey', 'zebra', 'panther']"
   ],
   "id": "3e19dd5a023e8e06"
  },
  {
   "metadata": {
    "ExecuteTime": {
     "end_time": "2025-03-05T04:25:58.155708Z",
     "start_time": "2025-03-05T04:25:58.149522Z"
    }
   },
   "cell_type": "code",
   "source": [
    "animals=['tiger', 'elephant', 'monkey', 'zebra', 'panther']\n",
    "\n",
    "for animal in animals:\n",
    "    print(animal.upper())"
   ],
   "id": "921206338b39bbcb",
   "outputs": [
    {
     "name": "stdout",
     "output_type": "stream",
     "text": [
      "TIGER\n",
      "ELEPHANT\n",
      "MONKEY\n",
      "ZEBRA\n",
      "PANTHER\n"
     ]
    }
   ],
   "execution_count": 30
  },
  {
   "metadata": {},
   "cell_type": "markdown",
   "source": "6. Write a program that iterates from 1 to 20, printing each number and whether it's odd or even.",
   "id": "d2949081d9ed1403"
  },
  {
   "metadata": {
    "ExecuteTime": {
     "end_time": "2025-03-05T04:25:58.266203Z",
     "start_time": "2025-03-05T04:25:58.253804Z"
    }
   },
   "cell_type": "code",
   "source": [
    "for i in range(1, 21):\n",
    "    print(i, 'odd' if i % 2 != 0 else 'even')"
   ],
   "id": "328013cd5519872a",
   "outputs": [
    {
     "name": "stdout",
     "output_type": "stream",
     "text": [
      "1 odd\n",
      "2 even\n",
      "3 odd\n",
      "4 even\n",
      "5 odd\n",
      "6 even\n",
      "7 odd\n",
      "8 even\n",
      "9 odd\n",
      "10 even\n",
      "11 odd\n",
      "12 even\n",
      "13 odd\n",
      "14 even\n",
      "15 odd\n",
      "16 even\n",
      "17 odd\n",
      "18 even\n",
      "19 odd\n",
      "20 even\n"
     ]
    }
   ],
   "execution_count": 31
  },
  {
   "metadata": {},
   "cell_type": "markdown",
   "source": "7. Write a function sum_of_integers(a, b) that takes two integers as input from the user and returns their sum.",
   "id": "9e0b6957ab168b19"
  },
  {
   "metadata": {
    "ExecuteTime": {
     "end_time": "2025-03-05T04:25:58.405201Z",
     "start_time": "2025-03-05T04:25:58.394724Z"
    }
   },
   "cell_type": "code",
   "source": [
    "def sum_of_integers(a, b):\n",
    "    return a + b\n",
    "\n",
    "sum_of_integers(20, 25) # Test."
   ],
   "id": "26034f2551a7e352",
   "outputs": [
    {
     "data": {
      "text/plain": [
       "45"
      ]
     },
     "execution_count": 32,
     "metadata": {},
     "output_type": "execute_result"
    }
   ],
   "execution_count": 32
  }
 ],
 "metadata": {
  "kernelspec": {
   "display_name": "Python 3",
   "language": "python",
   "name": "python3"
  },
  "language_info": {
   "codemirror_mode": {
    "name": "ipython",
    "version": 2
   },
   "file_extension": ".py",
   "mimetype": "text/x-python",
   "name": "python",
   "nbconvert_exporter": "python",
   "pygments_lexer": "ipython2",
   "version": "2.7.6"
  }
 },
 "nbformat": 4,
 "nbformat_minor": 5
}
